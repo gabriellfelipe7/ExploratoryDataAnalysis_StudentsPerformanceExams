{
  "nbformat": 4,
  "nbformat_minor": 0,
  "metadata": {
    "colab": {
      "provenance": [],
      "authorship_tag": "ABX9TyO1Nf499UlcpLAnJmCryU7g",
      "include_colab_link": true
    },
    "kernelspec": {
      "name": "python3",
      "display_name": "Python 3"
    },
    "language_info": {
      "name": "python"
    }
  },
  "cells": [
    {
      "cell_type": "markdown",
      "metadata": {
        "id": "view-in-github",
        "colab_type": "text"
      },
      "source": [
        "<a href=\"https://colab.research.google.com/github/gabriellfelipe7/ExploratoryDataAnalysis_StudentsPerformanceExams/blob/main/Students_Performace_in_Exams.ipynb\" target=\"_parent\"><img src=\"https://colab.research.google.com/assets/colab-badge.svg\" alt=\"Open In Colab\"/></a>"
      ]
    },
    {
      "cell_type": "markdown",
      "source": [
        "# **Students Performance in Exams**\n",
        "Gabriel Felipe Machado de Oliveira, 2022"
      ],
      "metadata": {
        "id": "ylpPs5b1ItyD"
      }
    },
    {
      "cell_type": "markdown",
      "source": [
        "# **1. Informações do dataset**"
      ],
      "metadata": {
        "id": "YQTHUFfJVrf9"
      }
    },
    {
      "cell_type": "markdown",
      "source": [
        "## 1.1. Extração\n",
        "O dataset utilizado no presente estudo foi extraído da plataforma Kaggle (https://www.kaggle.com/datasets/whenamancodes/students-performance-in-exams). "
      ],
      "metadata": {
        "id": "weVu7eKrVuuV"
      }
    },
    {
      "cell_type": "markdown",
      "source": [
        "## 1.2. Definições e variáveis\n",
        "A base de dados traz informações do desempenho de estudantes em uma avaliação a fim de se analisar seus desempenhos em três principais competências: cálculo matemático; leitura; e escrita. Como ferramenta de mensuração foi utilizado um score do teste para cada uma das competências consideradas. O dataset basicamente busca a resposta para questões do tipo:\n",
        "- Quão eficaz é o curso de preparação para o teste?\n",
        "- Quais os principais fatores que contribuem para os resultados dos testes?\n",
        "- Qual seria a melhor maneira de melhorar as notas dos alunos em cada teste?\n",
        "- Que padrões e interações nos dados você pode encontrar\n"
      ],
      "metadata": {
        "id": "KCgUDUPXVxBl"
      }
    },
    {
      "cell_type": "markdown",
      "source": [
        "Vale ressaltar que trata-se de uma base de dados fictícia de estudantes. Para o link gerador da base siga: http://roycekimmons.com/tools/generated_data/exams"
      ],
      "metadata": {
        "id": "p2Ggwz7UFLPm"
      }
    },
    {
      "cell_type": "markdown",
      "source": [
        "## 1.3. Variáveis\n",
        "As colunas da base e suas respectivas explicações seguem abaixo:\n",
        "- gender: gênero do participante;\n",
        "- race/ethnicity: grupos de raças/etinias;\n",
        "- parental level of education: nível de escolaridade dos pais;\n",
        "- lunch: informações da alimentação do candidato;\n",
        "- test preparation course: se o participante concluiu ou não o curso preparatório do exame;\n",
        "- math score: pontuação de matemática do estudante;\n",
        "- reading score: pontuação de leitura do estudante;\n",
        "- writing score: pontuação de escrita na escrita."
      ],
      "metadata": {
        "id": "3pK6ryOcVzHO"
      }
    },
    {
      "cell_type": "markdown",
      "source": [
        "## 1.4. Tamanho do dataset\n",
        "O dataset utilizado possui um total de 8 colunas e 1000 linhas."
      ],
      "metadata": {
        "id": "aqwI-gTZV18s"
      }
    },
    {
      "cell_type": "markdown",
      "source": [
        "# **2. Objetivos**"
      ],
      "metadata": {
        "id": "y_5OXv8_V8l9"
      }
    },
    {
      "cell_type": "markdown",
      "source": [
        "##2.1. Introdução\n",
        "O objetivo principal do estudo é, através de métodos estatísticos, analisar correlações entre variáveis explicativas e as variáveis respotas (scores). O modelos estatísticos utilizados serão especificados conforme o avanço do estudo e o nível de significância para todos testes será de 5% ($α = 0.05$). Serão utilizados testes de hipóteses a fim de responder peguntas previamente realizadas."
      ],
      "metadata": {
        "id": "knXyX3IJV-lN"
      }
    },
    {
      "cell_type": "markdown",
      "source": [
        "## 2.2. Tópico de abordagem\n",
        "Como guia para o estudo, utilizei uma pergunta provocativa, sendo ela:\n",
        "- Estudantes de gênero masculinos possuem scores maiores em matemática que estudantes do gênero feminino?\n",
        "\n"
      ],
      "metadata": {
        "id": "ybSBjaOxWB01"
      }
    },
    {
      "cell_type": "markdown",
      "source": [
        "# **3. Extração e Limpeza da Base de Dados**\n",
        "Etapa prática introdutória voltada para limpeza e adequação dos dados. \n"
      ],
      "metadata": {
        "id": "8k9S1OZSPXMK"
      }
    },
    {
      "cell_type": "code",
      "execution_count": null,
      "metadata": {
        "id": "JbAtHEzLGY5f"
      },
      "outputs": [],
      "source": [
        "#Extração de bibliotecas\n",
        "import pandas as pd\n",
        "import seaborn as sns\n",
        "import matplotlib.pyplot as plt\n",
        "import numpy as np\n",
        "import statistics as sts "
      ]
    },
    {
      "cell_type": "code",
      "source": [
        "#Extração dos dados e visualização\n",
        "data = pd.read_csv('exams.csv')\n",
        "data.head(10)"
      ],
      "metadata": {
        "colab": {
          "base_uri": "https://localhost:8080/",
          "height": 363
        },
        "id": "KSJmotbSLA5Q",
        "outputId": "7056d12e-22f3-43d1-ba50-ec82f555292b"
      },
      "execution_count": null,
      "outputs": [
        {
          "output_type": "execute_result",
          "data": {
            "text/plain": [
              "   gender race/ethnicity parental level of education         lunch  \\\n",
              "0    male        group A                 high school      standard   \n",
              "1  female        group D            some high school  free/reduced   \n",
              "2    male        group E                some college  free/reduced   \n",
              "3    male        group B                 high school      standard   \n",
              "4    male        group E          associate's degree      standard   \n",
              "5  female        group D                 high school      standard   \n",
              "6  female        group A           bachelor's degree      standard   \n",
              "7    male        group E                some college      standard   \n",
              "8    male        group D                 high school      standard   \n",
              "9    male        group C                some college  free/reduced   \n",
              "\n",
              "  test preparation course  math score  reading score  writing score  \n",
              "0               completed          67             67             63  \n",
              "1                    none          40             59             55  \n",
              "2                    none          59             60             50  \n",
              "3                    none          77             78             68  \n",
              "4               completed          78             73             68  \n",
              "5                    none          63             77             76  \n",
              "6                    none          62             59             63  \n",
              "7               completed          93             88             84  \n",
              "8                    none          63             56             65  \n",
              "9                    none          47             42             45  "
            ],
            "text/html": [
              "\n",
              "  <div id=\"df-d74774fd-c456-4c09-a163-0ee9aeb71208\">\n",
              "    <div class=\"colab-df-container\">\n",
              "      <div>\n",
              "<style scoped>\n",
              "    .dataframe tbody tr th:only-of-type {\n",
              "        vertical-align: middle;\n",
              "    }\n",
              "\n",
              "    .dataframe tbody tr th {\n",
              "        vertical-align: top;\n",
              "    }\n",
              "\n",
              "    .dataframe thead th {\n",
              "        text-align: right;\n",
              "    }\n",
              "</style>\n",
              "<table border=\"1\" class=\"dataframe\">\n",
              "  <thead>\n",
              "    <tr style=\"text-align: right;\">\n",
              "      <th></th>\n",
              "      <th>gender</th>\n",
              "      <th>race/ethnicity</th>\n",
              "      <th>parental level of education</th>\n",
              "      <th>lunch</th>\n",
              "      <th>test preparation course</th>\n",
              "      <th>math score</th>\n",
              "      <th>reading score</th>\n",
              "      <th>writing score</th>\n",
              "    </tr>\n",
              "  </thead>\n",
              "  <tbody>\n",
              "    <tr>\n",
              "      <th>0</th>\n",
              "      <td>male</td>\n",
              "      <td>group A</td>\n",
              "      <td>high school</td>\n",
              "      <td>standard</td>\n",
              "      <td>completed</td>\n",
              "      <td>67</td>\n",
              "      <td>67</td>\n",
              "      <td>63</td>\n",
              "    </tr>\n",
              "    <tr>\n",
              "      <th>1</th>\n",
              "      <td>female</td>\n",
              "      <td>group D</td>\n",
              "      <td>some high school</td>\n",
              "      <td>free/reduced</td>\n",
              "      <td>none</td>\n",
              "      <td>40</td>\n",
              "      <td>59</td>\n",
              "      <td>55</td>\n",
              "    </tr>\n",
              "    <tr>\n",
              "      <th>2</th>\n",
              "      <td>male</td>\n",
              "      <td>group E</td>\n",
              "      <td>some college</td>\n",
              "      <td>free/reduced</td>\n",
              "      <td>none</td>\n",
              "      <td>59</td>\n",
              "      <td>60</td>\n",
              "      <td>50</td>\n",
              "    </tr>\n",
              "    <tr>\n",
              "      <th>3</th>\n",
              "      <td>male</td>\n",
              "      <td>group B</td>\n",
              "      <td>high school</td>\n",
              "      <td>standard</td>\n",
              "      <td>none</td>\n",
              "      <td>77</td>\n",
              "      <td>78</td>\n",
              "      <td>68</td>\n",
              "    </tr>\n",
              "    <tr>\n",
              "      <th>4</th>\n",
              "      <td>male</td>\n",
              "      <td>group E</td>\n",
              "      <td>associate's degree</td>\n",
              "      <td>standard</td>\n",
              "      <td>completed</td>\n",
              "      <td>78</td>\n",
              "      <td>73</td>\n",
              "      <td>68</td>\n",
              "    </tr>\n",
              "    <tr>\n",
              "      <th>5</th>\n",
              "      <td>female</td>\n",
              "      <td>group D</td>\n",
              "      <td>high school</td>\n",
              "      <td>standard</td>\n",
              "      <td>none</td>\n",
              "      <td>63</td>\n",
              "      <td>77</td>\n",
              "      <td>76</td>\n",
              "    </tr>\n",
              "    <tr>\n",
              "      <th>6</th>\n",
              "      <td>female</td>\n",
              "      <td>group A</td>\n",
              "      <td>bachelor's degree</td>\n",
              "      <td>standard</td>\n",
              "      <td>none</td>\n",
              "      <td>62</td>\n",
              "      <td>59</td>\n",
              "      <td>63</td>\n",
              "    </tr>\n",
              "    <tr>\n",
              "      <th>7</th>\n",
              "      <td>male</td>\n",
              "      <td>group E</td>\n",
              "      <td>some college</td>\n",
              "      <td>standard</td>\n",
              "      <td>completed</td>\n",
              "      <td>93</td>\n",
              "      <td>88</td>\n",
              "      <td>84</td>\n",
              "    </tr>\n",
              "    <tr>\n",
              "      <th>8</th>\n",
              "      <td>male</td>\n",
              "      <td>group D</td>\n",
              "      <td>high school</td>\n",
              "      <td>standard</td>\n",
              "      <td>none</td>\n",
              "      <td>63</td>\n",
              "      <td>56</td>\n",
              "      <td>65</td>\n",
              "    </tr>\n",
              "    <tr>\n",
              "      <th>9</th>\n",
              "      <td>male</td>\n",
              "      <td>group C</td>\n",
              "      <td>some college</td>\n",
              "      <td>free/reduced</td>\n",
              "      <td>none</td>\n",
              "      <td>47</td>\n",
              "      <td>42</td>\n",
              "      <td>45</td>\n",
              "    </tr>\n",
              "  </tbody>\n",
              "</table>\n",
              "</div>\n",
              "      <button class=\"colab-df-convert\" onclick=\"convertToInteractive('df-d74774fd-c456-4c09-a163-0ee9aeb71208')\"\n",
              "              title=\"Convert this dataframe to an interactive table.\"\n",
              "              style=\"display:none;\">\n",
              "        \n",
              "  <svg xmlns=\"http://www.w3.org/2000/svg\" height=\"24px\"viewBox=\"0 0 24 24\"\n",
              "       width=\"24px\">\n",
              "    <path d=\"M0 0h24v24H0V0z\" fill=\"none\"/>\n",
              "    <path d=\"M18.56 5.44l.94 2.06.94-2.06 2.06-.94-2.06-.94-.94-2.06-.94 2.06-2.06.94zm-11 1L8.5 8.5l.94-2.06 2.06-.94-2.06-.94L8.5 2.5l-.94 2.06-2.06.94zm10 10l.94 2.06.94-2.06 2.06-.94-2.06-.94-.94-2.06-.94 2.06-2.06.94z\"/><path d=\"M17.41 7.96l-1.37-1.37c-.4-.4-.92-.59-1.43-.59-.52 0-1.04.2-1.43.59L10.3 9.45l-7.72 7.72c-.78.78-.78 2.05 0 2.83L4 21.41c.39.39.9.59 1.41.59.51 0 1.02-.2 1.41-.59l7.78-7.78 2.81-2.81c.8-.78.8-2.07 0-2.86zM5.41 20L4 18.59l7.72-7.72 1.47 1.35L5.41 20z\"/>\n",
              "  </svg>\n",
              "      </button>\n",
              "      \n",
              "  <style>\n",
              "    .colab-df-container {\n",
              "      display:flex;\n",
              "      flex-wrap:wrap;\n",
              "      gap: 12px;\n",
              "    }\n",
              "\n",
              "    .colab-df-convert {\n",
              "      background-color: #E8F0FE;\n",
              "      border: none;\n",
              "      border-radius: 50%;\n",
              "      cursor: pointer;\n",
              "      display: none;\n",
              "      fill: #1967D2;\n",
              "      height: 32px;\n",
              "      padding: 0 0 0 0;\n",
              "      width: 32px;\n",
              "    }\n",
              "\n",
              "    .colab-df-convert:hover {\n",
              "      background-color: #E2EBFA;\n",
              "      box-shadow: 0px 1px 2px rgba(60, 64, 67, 0.3), 0px 1px 3px 1px rgba(60, 64, 67, 0.15);\n",
              "      fill: #174EA6;\n",
              "    }\n",
              "\n",
              "    [theme=dark] .colab-df-convert {\n",
              "      background-color: #3B4455;\n",
              "      fill: #D2E3FC;\n",
              "    }\n",
              "\n",
              "    [theme=dark] .colab-df-convert:hover {\n",
              "      background-color: #434B5C;\n",
              "      box-shadow: 0px 1px 3px 1px rgba(0, 0, 0, 0.15);\n",
              "      filter: drop-shadow(0px 1px 2px rgba(0, 0, 0, 0.3));\n",
              "      fill: #FFFFFF;\n",
              "    }\n",
              "  </style>\n",
              "\n",
              "      <script>\n",
              "        const buttonEl =\n",
              "          document.querySelector('#df-d74774fd-c456-4c09-a163-0ee9aeb71208 button.colab-df-convert');\n",
              "        buttonEl.style.display =\n",
              "          google.colab.kernel.accessAllowed ? 'block' : 'none';\n",
              "\n",
              "        async function convertToInteractive(key) {\n",
              "          const element = document.querySelector('#df-d74774fd-c456-4c09-a163-0ee9aeb71208');\n",
              "          const dataTable =\n",
              "            await google.colab.kernel.invokeFunction('convertToInteractive',\n",
              "                                                     [key], {});\n",
              "          if (!dataTable) return;\n",
              "\n",
              "          const docLinkHtml = 'Like what you see? Visit the ' +\n",
              "            '<a target=\"_blank\" href=https://colab.research.google.com/notebooks/data_table.ipynb>data table notebook</a>'\n",
              "            + ' to learn more about interactive tables.';\n",
              "          element.innerHTML = '';\n",
              "          dataTable['output_type'] = 'display_data';\n",
              "          await google.colab.output.renderOutput(dataTable, element);\n",
              "          const docLink = document.createElement('div');\n",
              "          docLink.innerHTML = docLinkHtml;\n",
              "          element.appendChild(docLink);\n",
              "        }\n",
              "      </script>\n",
              "    </div>\n",
              "  </div>\n",
              "  "
            ]
          },
          "metadata": {},
          "execution_count": 3
        }
      ]
    },
    {
      "cell_type": "code",
      "source": [
        "#Análise dos tipos de dados\n",
        "data.info()"
      ],
      "metadata": {
        "colab": {
          "base_uri": "https://localhost:8080/"
        },
        "id": "eqB94aZjLFgY",
        "outputId": "ebf5f0fd-dee1-47fa-81c7-47c6af288b93"
      },
      "execution_count": null,
      "outputs": [
        {
          "output_type": "stream",
          "name": "stdout",
          "text": [
            "<class 'pandas.core.frame.DataFrame'>\n",
            "RangeIndex: 1000 entries, 0 to 999\n",
            "Data columns (total 8 columns):\n",
            " #   Column                       Non-Null Count  Dtype \n",
            "---  ------                       --------------  ----- \n",
            " 0   gender                       1000 non-null   object\n",
            " 1   race/ethnicity               1000 non-null   object\n",
            " 2   parental level of education  1000 non-null   object\n",
            " 3   lunch                        1000 non-null   object\n",
            " 4   test preparation course      1000 non-null   object\n",
            " 5   math score                   1000 non-null   int64 \n",
            " 6   reading score                1000 non-null   int64 \n",
            " 7   writing score                1000 non-null   int64 \n",
            "dtypes: int64(3), object(5)\n",
            "memory usage: 62.6+ KB\n"
          ]
        }
      ]
    },
    {
      "cell_type": "markdown",
      "source": [
        "Há 5 variáveis categóricas e 3 numéricas inteiras."
      ],
      "metadata": {
        "id": "-grxZou3SWPb"
      }
    },
    {
      "cell_type": "code",
      "source": [
        "#Bucando valores nulos\n",
        "data.isnull()"
      ],
      "metadata": {
        "colab": {
          "base_uri": "https://localhost:8080/",
          "height": 423
        },
        "id": "m73hab1LSSPq",
        "outputId": "787ea831-e7f9-4c48-fe8d-f3d25c03c29d"
      },
      "execution_count": null,
      "outputs": [
        {
          "output_type": "execute_result",
          "data": {
            "text/plain": [
              "     gender  race/ethnicity  parental level of education  lunch  \\\n",
              "0     False           False                        False  False   \n",
              "1     False           False                        False  False   \n",
              "2     False           False                        False  False   \n",
              "3     False           False                        False  False   \n",
              "4     False           False                        False  False   \n",
              "..      ...             ...                          ...    ...   \n",
              "995   False           False                        False  False   \n",
              "996   False           False                        False  False   \n",
              "997   False           False                        False  False   \n",
              "998   False           False                        False  False   \n",
              "999   False           False                        False  False   \n",
              "\n",
              "     test preparation course  math score  reading score  writing score  \n",
              "0                      False       False          False          False  \n",
              "1                      False       False          False          False  \n",
              "2                      False       False          False          False  \n",
              "3                      False       False          False          False  \n",
              "4                      False       False          False          False  \n",
              "..                       ...         ...            ...            ...  \n",
              "995                    False       False          False          False  \n",
              "996                    False       False          False          False  \n",
              "997                    False       False          False          False  \n",
              "998                    False       False          False          False  \n",
              "999                    False       False          False          False  \n",
              "\n",
              "[1000 rows x 8 columns]"
            ],
            "text/html": [
              "\n",
              "  <div id=\"df-e6d18388-e7b8-4d1b-860a-3a99b2c7f715\">\n",
              "    <div class=\"colab-df-container\">\n",
              "      <div>\n",
              "<style scoped>\n",
              "    .dataframe tbody tr th:only-of-type {\n",
              "        vertical-align: middle;\n",
              "    }\n",
              "\n",
              "    .dataframe tbody tr th {\n",
              "        vertical-align: top;\n",
              "    }\n",
              "\n",
              "    .dataframe thead th {\n",
              "        text-align: right;\n",
              "    }\n",
              "</style>\n",
              "<table border=\"1\" class=\"dataframe\">\n",
              "  <thead>\n",
              "    <tr style=\"text-align: right;\">\n",
              "      <th></th>\n",
              "      <th>gender</th>\n",
              "      <th>race/ethnicity</th>\n",
              "      <th>parental level of education</th>\n",
              "      <th>lunch</th>\n",
              "      <th>test preparation course</th>\n",
              "      <th>math score</th>\n",
              "      <th>reading score</th>\n",
              "      <th>writing score</th>\n",
              "    </tr>\n",
              "  </thead>\n",
              "  <tbody>\n",
              "    <tr>\n",
              "      <th>0</th>\n",
              "      <td>False</td>\n",
              "      <td>False</td>\n",
              "      <td>False</td>\n",
              "      <td>False</td>\n",
              "      <td>False</td>\n",
              "      <td>False</td>\n",
              "      <td>False</td>\n",
              "      <td>False</td>\n",
              "    </tr>\n",
              "    <tr>\n",
              "      <th>1</th>\n",
              "      <td>False</td>\n",
              "      <td>False</td>\n",
              "      <td>False</td>\n",
              "      <td>False</td>\n",
              "      <td>False</td>\n",
              "      <td>False</td>\n",
              "      <td>False</td>\n",
              "      <td>False</td>\n",
              "    </tr>\n",
              "    <tr>\n",
              "      <th>2</th>\n",
              "      <td>False</td>\n",
              "      <td>False</td>\n",
              "      <td>False</td>\n",
              "      <td>False</td>\n",
              "      <td>False</td>\n",
              "      <td>False</td>\n",
              "      <td>False</td>\n",
              "      <td>False</td>\n",
              "    </tr>\n",
              "    <tr>\n",
              "      <th>3</th>\n",
              "      <td>False</td>\n",
              "      <td>False</td>\n",
              "      <td>False</td>\n",
              "      <td>False</td>\n",
              "      <td>False</td>\n",
              "      <td>False</td>\n",
              "      <td>False</td>\n",
              "      <td>False</td>\n",
              "    </tr>\n",
              "    <tr>\n",
              "      <th>4</th>\n",
              "      <td>False</td>\n",
              "      <td>False</td>\n",
              "      <td>False</td>\n",
              "      <td>False</td>\n",
              "      <td>False</td>\n",
              "      <td>False</td>\n",
              "      <td>False</td>\n",
              "      <td>False</td>\n",
              "    </tr>\n",
              "    <tr>\n",
              "      <th>...</th>\n",
              "      <td>...</td>\n",
              "      <td>...</td>\n",
              "      <td>...</td>\n",
              "      <td>...</td>\n",
              "      <td>...</td>\n",
              "      <td>...</td>\n",
              "      <td>...</td>\n",
              "      <td>...</td>\n",
              "    </tr>\n",
              "    <tr>\n",
              "      <th>995</th>\n",
              "      <td>False</td>\n",
              "      <td>False</td>\n",
              "      <td>False</td>\n",
              "      <td>False</td>\n",
              "      <td>False</td>\n",
              "      <td>False</td>\n",
              "      <td>False</td>\n",
              "      <td>False</td>\n",
              "    </tr>\n",
              "    <tr>\n",
              "      <th>996</th>\n",
              "      <td>False</td>\n",
              "      <td>False</td>\n",
              "      <td>False</td>\n",
              "      <td>False</td>\n",
              "      <td>False</td>\n",
              "      <td>False</td>\n",
              "      <td>False</td>\n",
              "      <td>False</td>\n",
              "    </tr>\n",
              "    <tr>\n",
              "      <th>997</th>\n",
              "      <td>False</td>\n",
              "      <td>False</td>\n",
              "      <td>False</td>\n",
              "      <td>False</td>\n",
              "      <td>False</td>\n",
              "      <td>False</td>\n",
              "      <td>False</td>\n",
              "      <td>False</td>\n",
              "    </tr>\n",
              "    <tr>\n",
              "      <th>998</th>\n",
              "      <td>False</td>\n",
              "      <td>False</td>\n",
              "      <td>False</td>\n",
              "      <td>False</td>\n",
              "      <td>False</td>\n",
              "      <td>False</td>\n",
              "      <td>False</td>\n",
              "      <td>False</td>\n",
              "    </tr>\n",
              "    <tr>\n",
              "      <th>999</th>\n",
              "      <td>False</td>\n",
              "      <td>False</td>\n",
              "      <td>False</td>\n",
              "      <td>False</td>\n",
              "      <td>False</td>\n",
              "      <td>False</td>\n",
              "      <td>False</td>\n",
              "      <td>False</td>\n",
              "    </tr>\n",
              "  </tbody>\n",
              "</table>\n",
              "<p>1000 rows × 8 columns</p>\n",
              "</div>\n",
              "      <button class=\"colab-df-convert\" onclick=\"convertToInteractive('df-e6d18388-e7b8-4d1b-860a-3a99b2c7f715')\"\n",
              "              title=\"Convert this dataframe to an interactive table.\"\n",
              "              style=\"display:none;\">\n",
              "        \n",
              "  <svg xmlns=\"http://www.w3.org/2000/svg\" height=\"24px\"viewBox=\"0 0 24 24\"\n",
              "       width=\"24px\">\n",
              "    <path d=\"M0 0h24v24H0V0z\" fill=\"none\"/>\n",
              "    <path d=\"M18.56 5.44l.94 2.06.94-2.06 2.06-.94-2.06-.94-.94-2.06-.94 2.06-2.06.94zm-11 1L8.5 8.5l.94-2.06 2.06-.94-2.06-.94L8.5 2.5l-.94 2.06-2.06.94zm10 10l.94 2.06.94-2.06 2.06-.94-2.06-.94-.94-2.06-.94 2.06-2.06.94z\"/><path d=\"M17.41 7.96l-1.37-1.37c-.4-.4-.92-.59-1.43-.59-.52 0-1.04.2-1.43.59L10.3 9.45l-7.72 7.72c-.78.78-.78 2.05 0 2.83L4 21.41c.39.39.9.59 1.41.59.51 0 1.02-.2 1.41-.59l7.78-7.78 2.81-2.81c.8-.78.8-2.07 0-2.86zM5.41 20L4 18.59l7.72-7.72 1.47 1.35L5.41 20z\"/>\n",
              "  </svg>\n",
              "      </button>\n",
              "      \n",
              "  <style>\n",
              "    .colab-df-container {\n",
              "      display:flex;\n",
              "      flex-wrap:wrap;\n",
              "      gap: 12px;\n",
              "    }\n",
              "\n",
              "    .colab-df-convert {\n",
              "      background-color: #E8F0FE;\n",
              "      border: none;\n",
              "      border-radius: 50%;\n",
              "      cursor: pointer;\n",
              "      display: none;\n",
              "      fill: #1967D2;\n",
              "      height: 32px;\n",
              "      padding: 0 0 0 0;\n",
              "      width: 32px;\n",
              "    }\n",
              "\n",
              "    .colab-df-convert:hover {\n",
              "      background-color: #E2EBFA;\n",
              "      box-shadow: 0px 1px 2px rgba(60, 64, 67, 0.3), 0px 1px 3px 1px rgba(60, 64, 67, 0.15);\n",
              "      fill: #174EA6;\n",
              "    }\n",
              "\n",
              "    [theme=dark] .colab-df-convert {\n",
              "      background-color: #3B4455;\n",
              "      fill: #D2E3FC;\n",
              "    }\n",
              "\n",
              "    [theme=dark] .colab-df-convert:hover {\n",
              "      background-color: #434B5C;\n",
              "      box-shadow: 0px 1px 3px 1px rgba(0, 0, 0, 0.15);\n",
              "      filter: drop-shadow(0px 1px 2px rgba(0, 0, 0, 0.3));\n",
              "      fill: #FFFFFF;\n",
              "    }\n",
              "  </style>\n",
              "\n",
              "      <script>\n",
              "        const buttonEl =\n",
              "          document.querySelector('#df-e6d18388-e7b8-4d1b-860a-3a99b2c7f715 button.colab-df-convert');\n",
              "        buttonEl.style.display =\n",
              "          google.colab.kernel.accessAllowed ? 'block' : 'none';\n",
              "\n",
              "        async function convertToInteractive(key) {\n",
              "          const element = document.querySelector('#df-e6d18388-e7b8-4d1b-860a-3a99b2c7f715');\n",
              "          const dataTable =\n",
              "            await google.colab.kernel.invokeFunction('convertToInteractive',\n",
              "                                                     [key], {});\n",
              "          if (!dataTable) return;\n",
              "\n",
              "          const docLinkHtml = 'Like what you see? Visit the ' +\n",
              "            '<a target=\"_blank\" href=https://colab.research.google.com/notebooks/data_table.ipynb>data table notebook</a>'\n",
              "            + ' to learn more about interactive tables.';\n",
              "          element.innerHTML = '';\n",
              "          dataTable['output_type'] = 'display_data';\n",
              "          await google.colab.output.renderOutput(dataTable, element);\n",
              "          const docLink = document.createElement('div');\n",
              "          docLink.innerHTML = docLinkHtml;\n",
              "          element.appendChild(docLink);\n",
              "        }\n",
              "      </script>\n",
              "    </div>\n",
              "  </div>\n",
              "  "
            ]
          },
          "metadata": {},
          "execution_count": 5
        }
      ]
    },
    {
      "cell_type": "code",
      "source": [
        "#Buscando valores vazios\n",
        "data.isna()"
      ],
      "metadata": {
        "colab": {
          "base_uri": "https://localhost:8080/",
          "height": 423
        },
        "id": "NKqRH4_dSj-D",
        "outputId": "1af9b330-567c-4932-f02c-2a135f664f65"
      },
      "execution_count": null,
      "outputs": [
        {
          "output_type": "execute_result",
          "data": {
            "text/plain": [
              "     gender  race/ethnicity  parental level of education  lunch  \\\n",
              "0     False           False                        False  False   \n",
              "1     False           False                        False  False   \n",
              "2     False           False                        False  False   \n",
              "3     False           False                        False  False   \n",
              "4     False           False                        False  False   \n",
              "..      ...             ...                          ...    ...   \n",
              "995   False           False                        False  False   \n",
              "996   False           False                        False  False   \n",
              "997   False           False                        False  False   \n",
              "998   False           False                        False  False   \n",
              "999   False           False                        False  False   \n",
              "\n",
              "     test preparation course  math score  reading score  writing score  \n",
              "0                      False       False          False          False  \n",
              "1                      False       False          False          False  \n",
              "2                      False       False          False          False  \n",
              "3                      False       False          False          False  \n",
              "4                      False       False          False          False  \n",
              "..                       ...         ...            ...            ...  \n",
              "995                    False       False          False          False  \n",
              "996                    False       False          False          False  \n",
              "997                    False       False          False          False  \n",
              "998                    False       False          False          False  \n",
              "999                    False       False          False          False  \n",
              "\n",
              "[1000 rows x 8 columns]"
            ],
            "text/html": [
              "\n",
              "  <div id=\"df-924bb219-8356-4669-a9a8-a62010137c7a\">\n",
              "    <div class=\"colab-df-container\">\n",
              "      <div>\n",
              "<style scoped>\n",
              "    .dataframe tbody tr th:only-of-type {\n",
              "        vertical-align: middle;\n",
              "    }\n",
              "\n",
              "    .dataframe tbody tr th {\n",
              "        vertical-align: top;\n",
              "    }\n",
              "\n",
              "    .dataframe thead th {\n",
              "        text-align: right;\n",
              "    }\n",
              "</style>\n",
              "<table border=\"1\" class=\"dataframe\">\n",
              "  <thead>\n",
              "    <tr style=\"text-align: right;\">\n",
              "      <th></th>\n",
              "      <th>gender</th>\n",
              "      <th>race/ethnicity</th>\n",
              "      <th>parental level of education</th>\n",
              "      <th>lunch</th>\n",
              "      <th>test preparation course</th>\n",
              "      <th>math score</th>\n",
              "      <th>reading score</th>\n",
              "      <th>writing score</th>\n",
              "    </tr>\n",
              "  </thead>\n",
              "  <tbody>\n",
              "    <tr>\n",
              "      <th>0</th>\n",
              "      <td>False</td>\n",
              "      <td>False</td>\n",
              "      <td>False</td>\n",
              "      <td>False</td>\n",
              "      <td>False</td>\n",
              "      <td>False</td>\n",
              "      <td>False</td>\n",
              "      <td>False</td>\n",
              "    </tr>\n",
              "    <tr>\n",
              "      <th>1</th>\n",
              "      <td>False</td>\n",
              "      <td>False</td>\n",
              "      <td>False</td>\n",
              "      <td>False</td>\n",
              "      <td>False</td>\n",
              "      <td>False</td>\n",
              "      <td>False</td>\n",
              "      <td>False</td>\n",
              "    </tr>\n",
              "    <tr>\n",
              "      <th>2</th>\n",
              "      <td>False</td>\n",
              "      <td>False</td>\n",
              "      <td>False</td>\n",
              "      <td>False</td>\n",
              "      <td>False</td>\n",
              "      <td>False</td>\n",
              "      <td>False</td>\n",
              "      <td>False</td>\n",
              "    </tr>\n",
              "    <tr>\n",
              "      <th>3</th>\n",
              "      <td>False</td>\n",
              "      <td>False</td>\n",
              "      <td>False</td>\n",
              "      <td>False</td>\n",
              "      <td>False</td>\n",
              "      <td>False</td>\n",
              "      <td>False</td>\n",
              "      <td>False</td>\n",
              "    </tr>\n",
              "    <tr>\n",
              "      <th>4</th>\n",
              "      <td>False</td>\n",
              "      <td>False</td>\n",
              "      <td>False</td>\n",
              "      <td>False</td>\n",
              "      <td>False</td>\n",
              "      <td>False</td>\n",
              "      <td>False</td>\n",
              "      <td>False</td>\n",
              "    </tr>\n",
              "    <tr>\n",
              "      <th>...</th>\n",
              "      <td>...</td>\n",
              "      <td>...</td>\n",
              "      <td>...</td>\n",
              "      <td>...</td>\n",
              "      <td>...</td>\n",
              "      <td>...</td>\n",
              "      <td>...</td>\n",
              "      <td>...</td>\n",
              "    </tr>\n",
              "    <tr>\n",
              "      <th>995</th>\n",
              "      <td>False</td>\n",
              "      <td>False</td>\n",
              "      <td>False</td>\n",
              "      <td>False</td>\n",
              "      <td>False</td>\n",
              "      <td>False</td>\n",
              "      <td>False</td>\n",
              "      <td>False</td>\n",
              "    </tr>\n",
              "    <tr>\n",
              "      <th>996</th>\n",
              "      <td>False</td>\n",
              "      <td>False</td>\n",
              "      <td>False</td>\n",
              "      <td>False</td>\n",
              "      <td>False</td>\n",
              "      <td>False</td>\n",
              "      <td>False</td>\n",
              "      <td>False</td>\n",
              "    </tr>\n",
              "    <tr>\n",
              "      <th>997</th>\n",
              "      <td>False</td>\n",
              "      <td>False</td>\n",
              "      <td>False</td>\n",
              "      <td>False</td>\n",
              "      <td>False</td>\n",
              "      <td>False</td>\n",
              "      <td>False</td>\n",
              "      <td>False</td>\n",
              "    </tr>\n",
              "    <tr>\n",
              "      <th>998</th>\n",
              "      <td>False</td>\n",
              "      <td>False</td>\n",
              "      <td>False</td>\n",
              "      <td>False</td>\n",
              "      <td>False</td>\n",
              "      <td>False</td>\n",
              "      <td>False</td>\n",
              "      <td>False</td>\n",
              "    </tr>\n",
              "    <tr>\n",
              "      <th>999</th>\n",
              "      <td>False</td>\n",
              "      <td>False</td>\n",
              "      <td>False</td>\n",
              "      <td>False</td>\n",
              "      <td>False</td>\n",
              "      <td>False</td>\n",
              "      <td>False</td>\n",
              "      <td>False</td>\n",
              "    </tr>\n",
              "  </tbody>\n",
              "</table>\n",
              "<p>1000 rows × 8 columns</p>\n",
              "</div>\n",
              "      <button class=\"colab-df-convert\" onclick=\"convertToInteractive('df-924bb219-8356-4669-a9a8-a62010137c7a')\"\n",
              "              title=\"Convert this dataframe to an interactive table.\"\n",
              "              style=\"display:none;\">\n",
              "        \n",
              "  <svg xmlns=\"http://www.w3.org/2000/svg\" height=\"24px\"viewBox=\"0 0 24 24\"\n",
              "       width=\"24px\">\n",
              "    <path d=\"M0 0h24v24H0V0z\" fill=\"none\"/>\n",
              "    <path d=\"M18.56 5.44l.94 2.06.94-2.06 2.06-.94-2.06-.94-.94-2.06-.94 2.06-2.06.94zm-11 1L8.5 8.5l.94-2.06 2.06-.94-2.06-.94L8.5 2.5l-.94 2.06-2.06.94zm10 10l.94 2.06.94-2.06 2.06-.94-2.06-.94-.94-2.06-.94 2.06-2.06.94z\"/><path d=\"M17.41 7.96l-1.37-1.37c-.4-.4-.92-.59-1.43-.59-.52 0-1.04.2-1.43.59L10.3 9.45l-7.72 7.72c-.78.78-.78 2.05 0 2.83L4 21.41c.39.39.9.59 1.41.59.51 0 1.02-.2 1.41-.59l7.78-7.78 2.81-2.81c.8-.78.8-2.07 0-2.86zM5.41 20L4 18.59l7.72-7.72 1.47 1.35L5.41 20z\"/>\n",
              "  </svg>\n",
              "      </button>\n",
              "      \n",
              "  <style>\n",
              "    .colab-df-container {\n",
              "      display:flex;\n",
              "      flex-wrap:wrap;\n",
              "      gap: 12px;\n",
              "    }\n",
              "\n",
              "    .colab-df-convert {\n",
              "      background-color: #E8F0FE;\n",
              "      border: none;\n",
              "      border-radius: 50%;\n",
              "      cursor: pointer;\n",
              "      display: none;\n",
              "      fill: #1967D2;\n",
              "      height: 32px;\n",
              "      padding: 0 0 0 0;\n",
              "      width: 32px;\n",
              "    }\n",
              "\n",
              "    .colab-df-convert:hover {\n",
              "      background-color: #E2EBFA;\n",
              "      box-shadow: 0px 1px 2px rgba(60, 64, 67, 0.3), 0px 1px 3px 1px rgba(60, 64, 67, 0.15);\n",
              "      fill: #174EA6;\n",
              "    }\n",
              "\n",
              "    [theme=dark] .colab-df-convert {\n",
              "      background-color: #3B4455;\n",
              "      fill: #D2E3FC;\n",
              "    }\n",
              "\n",
              "    [theme=dark] .colab-df-convert:hover {\n",
              "      background-color: #434B5C;\n",
              "      box-shadow: 0px 1px 3px 1px rgba(0, 0, 0, 0.15);\n",
              "      filter: drop-shadow(0px 1px 2px rgba(0, 0, 0, 0.3));\n",
              "      fill: #FFFFFF;\n",
              "    }\n",
              "  </style>\n",
              "\n",
              "      <script>\n",
              "        const buttonEl =\n",
              "          document.querySelector('#df-924bb219-8356-4669-a9a8-a62010137c7a button.colab-df-convert');\n",
              "        buttonEl.style.display =\n",
              "          google.colab.kernel.accessAllowed ? 'block' : 'none';\n",
              "\n",
              "        async function convertToInteractive(key) {\n",
              "          const element = document.querySelector('#df-924bb219-8356-4669-a9a8-a62010137c7a');\n",
              "          const dataTable =\n",
              "            await google.colab.kernel.invokeFunction('convertToInteractive',\n",
              "                                                     [key], {});\n",
              "          if (!dataTable) return;\n",
              "\n",
              "          const docLinkHtml = 'Like what you see? Visit the ' +\n",
              "            '<a target=\"_blank\" href=https://colab.research.google.com/notebooks/data_table.ipynb>data table notebook</a>'\n",
              "            + ' to learn more about interactive tables.';\n",
              "          element.innerHTML = '';\n",
              "          dataTable['output_type'] = 'display_data';\n",
              "          await google.colab.output.renderOutput(dataTable, element);\n",
              "          const docLink = document.createElement('div');\n",
              "          docLink.innerHTML = docLinkHtml;\n",
              "          element.appendChild(docLink);\n",
              "        }\n",
              "      </script>\n",
              "    </div>\n",
              "  </div>\n",
              "  "
            ]
          },
          "metadata": {},
          "execution_count": 6
        }
      ]
    },
    {
      "cell_type": "markdown",
      "source": [
        "Como visto, os dados estão prontos para serem analisados. Não há valores vazios ou nulos."
      ],
      "metadata": {
        "id": "610djRq-S48b"
      }
    },
    {
      "cell_type": "markdown",
      "source": [
        "# **4. Análise das variáveis quantitativas**\n",
        "A fim de eventualmente fazer suposições sobre os parâmetros da população, o teste da normalidade das variáveis quantitativas se fez necessário. Trata-se de uma base com 1000 observações (um $n$ suficientemente grande), isto é, o Teorema Central do Limite garantiria a normalidade. Entretanto, vamos utilizar um Teste de Normalidade não-paramétrico para verificarmos mais afundo se a mostra de notas dos estudantes nas três competências seguem uma distribuição Normal.\n"
      ],
      "metadata": {
        "id": "5-v5KlYcyY1Z"
      }
    },
    {
      "cell_type": "markdown",
      "source": [
        "## 4.1. Variavel: 'math score' \n"
      ],
      "metadata": {
        "id": "AmcmEuwJhJyj"
      }
    },
    {
      "cell_type": "markdown",
      "source": [
        "### 4.1.1. Visualização da amostra"
      ],
      "metadata": {
        "id": "XVXKNE4gUW8V"
      }
    },
    {
      "cell_type": "markdown",
      "source": [
        "Visualização da amostra:"
      ],
      "metadata": {
        "id": "tWnRWvxWIZbF"
      }
    },
    {
      "cell_type": "code",
      "source": [
        "plt.xlabel('math score: valores')\n",
        "plt.ylabel('Frequência')\n",
        "plt.title('Distribuição de Frequências: math score')\n",
        "sns.histplot(data=data, x=\"math score\", kde=True)"
      ],
      "metadata": {
        "id": "_4CLd6-EOFbU",
        "colab": {
          "base_uri": "https://localhost:8080/",
          "height": 313
        },
        "outputId": "dd2755fb-8f66-4abd-f97c-518c8b03101d"
      },
      "execution_count": null,
      "outputs": [
        {
          "output_type": "execute_result",
          "data": {
            "text/plain": [
              "<matplotlib.axes._subplots.AxesSubplot at 0x7f6da1f3ce10>"
            ]
          },
          "metadata": {},
          "execution_count": 7
        },
        {
          "output_type": "display_data",
          "data": {
            "text/plain": [
              "<Figure size 432x288 with 1 Axes>"
            ],
            "image/png": "[encoded data removed]"
          },
          "metadata": {
            "needs_background": "light"
          }
        }
      ]
    },
    {
      "cell_type": "markdown",
      "source": [
        "Através do plot, analisamos algumas possibilidades da distribuição da variável:\n",
        "- a variável segue uma normal com assimetria à esquerda;\n",
        "- média próximo de 70."
      ],
      "metadata": {
        "id": "LiayyTzcJxYl"
      }
    },
    {
      "cell_type": "markdown",
      "source": [
        "### 4.1.2. Escolha do Teste e Aplicação na Amostra"
      ],
      "metadata": {
        "id": "l6dxsP3yQTql"
      }
    },
    {
      "cell_type": "markdown",
      "source": [
        "Temos várias opções de Testes Não-Paramétricos que verificam a Normalidade. Vamos optar por usar o Shapiro-Wilk. Além desse ser poderoso para tal verificação, nossa base satisfaz seus pré requisitos."
      ],
      "metadata": {
        "id": "uEdYSIejKtVc"
      }
    },
    {
      "cell_type": "markdown",
      "source": [
        "Instalação das bibliotecas:"
      ],
      "metadata": {
        "id": "y8EaVQ6lCyux"
      }
    },
    {
      "cell_type": "code",
      "source": [
        "!pip install scipy\n"
      ],
      "metadata": {
        "colab": {
          "base_uri": "https://localhost:8080/"
        },
        "id": "q_CZfdf_JQH4",
        "outputId": "13b8bd99-28af-4339-f059-56791a3749df"
      },
      "execution_count": null,
      "outputs": [
        {
          "output_type": "stream",
          "name": "stdout",
          "text": [
            "Looking in indexes: https://pypi.org/simple, https://us-python.pkg.dev/colab-wheels/public/simple/\n",
            "Requirement already satisfied: scipy in /usr/local/lib/python3.7/dist-packages (1.7.3)\n",
            "Requirement already satisfied: numpy<1.23.0,>=1.16.5 in /usr/local/lib/python3.7/dist-packages (from scipy) (1.21.6)\n"
          ]
        }
      ]
    },
    {
      "cell_type": "code",
      "source": [
        "!pip install statsmodels"
      ],
      "metadata": {
        "colab": {
          "base_uri": "https://localhost:8080/"
        },
        "id": "bnMuhqtKLiIt",
        "outputId": "1ffcf12d-5a5e-4be4-e7e8-e8a655a11d78"
      },
      "execution_count": null,
      "outputs": [
        {
          "output_type": "stream",
          "name": "stdout",
          "text": [
            "Looking in indexes: https://pypi.org/simple, https://us-python.pkg.dev/colab-wheels/public/simple/\n",
            "Requirement already satisfied: statsmodels in /usr/local/lib/python3.7/dist-packages (0.12.2)\n",
            "Requirement already satisfied: patsy>=0.5 in /usr/local/lib/python3.7/dist-packages (from statsmodels) (0.5.2)\n",
            "Requirement already satisfied: pandas>=0.21 in /usr/local/lib/python3.7/dist-packages (from statsmodels) (1.3.5)\n",
            "Requirement already satisfied: numpy>=1.15 in /usr/local/lib/python3.7/dist-packages (from statsmodels) (1.21.6)\n",
            "Requirement already satisfied: scipy>=1.1 in /usr/local/lib/python3.7/dist-packages (from statsmodels) (1.7.3)\n",
            "Requirement already satisfied: python-dateutil>=2.7.3 in /usr/local/lib/python3.7/dist-packages (from pandas>=0.21->statsmodels) (2.8.2)\n",
            "Requirement already satisfied: pytz>=2017.3 in /usr/local/lib/python3.7/dist-packages (from pandas>=0.21->statsmodels) (2022.4)\n",
            "Requirement already satisfied: six in /usr/local/lib/python3.7/dist-packages (from patsy>=0.5->statsmodels) (1.15.0)\n"
          ]
        }
      ]
    },
    {
      "cell_type": "code",
      "source": [
        "from scipy import stats\n",
        "import scipy"
      ],
      "metadata": {
        "id": "kye0RjPWLslV"
      },
      "execution_count": null,
      "outputs": []
    },
    {
      "cell_type": "markdown",
      "source": [
        "Aplicação do teste:"
      ],
      "metadata": {
        "id": "kbUlHLscCwmJ"
      }
    },
    {
      "cell_type": "code",
      "source": [
        "x = data['math score']\n",
        "shapiro_test = stats.shapiro(x)\n",
        "print('*** RESULTADO - VARIÁVEL: MATH SCORE ***')\n",
        "print(shapiro_test)"
      ],
      "metadata": {
        "colab": {
          "base_uri": "https://localhost:8080/"
        },
        "id": "4dhKTeBgLJcl",
        "outputId": "24b5d8d6-e63b-419a-acad-3ae83b2b4bbd"
      },
      "execution_count": null,
      "outputs": [
        {
          "output_type": "stream",
          "name": "stdout",
          "text": [
            "*** RESULTADO - VARIÁVEL: MATH SCORE ***\n",
            "ShapiroResult(statistic=0.9950758218765259, pvalue=0.0025056363083422184)\n"
          ]
        }
      ]
    },
    {
      "cell_type": "markdown",
      "source": [
        "### 4.1.3. Decisão"
      ],
      "metadata": {
        "id": "xLPQJEPZRZg9"
      }
    },
    {
      "cell_type": "markdown",
      "source": [
        "Temos que $p-valor < α = 0.05$. Ou seja, ao nível de confiança de 0.05 a amostra nos fornece evidências que os dados seguem uma distribuição normal provada pelo método de Shapiro-Wilk."
      ],
      "metadata": {
        "id": "fM1TQzo-PfJV"
      }
    },
    {
      "cell_type": "markdown",
      "source": [
        "## 4.2. Variável: \"reading score\""
      ],
      "metadata": {
        "id": "N5hriRSeRthE"
      }
    },
    {
      "cell_type": "markdown",
      "source": [
        "### 4.2.1. Visualização dos dados"
      ],
      "metadata": {
        "id": "rRu6pICgUaL2"
      }
    },
    {
      "cell_type": "code",
      "source": [
        "plt.xlabel('reading score: valores')\n",
        "plt.ylabel('Frequência')\n",
        "plt.title('Distribuição de Frequências: reading score')\n",
        "sns.histplot(data=data, x=\"reading score\", kde=True)"
      ],
      "metadata": {
        "colab": {
          "base_uri": "https://localhost:8080/",
          "height": 313
        },
        "id": "oxNHy2JpMsb-",
        "outputId": "2eb43876-0a63-46c0-faab-28e82a2e6bac"
      },
      "execution_count": null,
      "outputs": [
        {
          "output_type": "execute_result",
          "data": {
            "text/plain": [
              "<matplotlib.axes._subplots.AxesSubplot at 0x7f6da1e66810>"
            ]
          },
          "metadata": {},
          "execution_count": 12
        },
        {
          "output_type": "display_data",
          "data": {
            "text/plain": [
              "<Figure size 432x288 with 1 Axes>"
            ],
            "image/png": "[encoded data removed]"
          },
          "metadata": {
            "needs_background": "light"
          }
        }
      ]
    },
    {
      "cell_type": "markdown",
      "source": [
        "Algumas possibilidade e considerações podem ser tiradas da variável \"reading score\", segue:\n",
        "- possivelmente trata-se de uma distribuição normal com assimetria à esquerda;\n",
        "- a média é próxima de 70."
      ],
      "metadata": {
        "id": "4VraaZPvR4sN"
      }
    },
    {
      "cell_type": "markdown",
      "source": [
        "###4.2.2. Aplicação do Teste na Amostra"
      ],
      "metadata": {
        "id": "EFADWupIScoE"
      }
    },
    {
      "cell_type": "code",
      "source": [
        "x = data['reading score']\n",
        "shapiro_test = stats.shapiro(x)\n",
        "print('*** RESULTADO - VARIÁVEL: READING SCORE ***')\n",
        "print(shapiro_test)"
      ],
      "metadata": {
        "colab": {
          "base_uri": "https://localhost:8080/"
        },
        "id": "X9_6lX2gSgsM",
        "outputId": "4e216046-9cd9-4951-f600-c7c68cb09832"
      },
      "execution_count": null,
      "outputs": [
        {
          "output_type": "stream",
          "name": "stdout",
          "text": [
            "*** RESULTADO - VARIÁVEL: READING SCORE ***\n",
            "ShapiroResult(statistic=0.9930004477500916, pvalue=0.00011787991388700902)\n"
          ]
        }
      ]
    },
    {
      "cell_type": "markdown",
      "source": [
        "### 4.2.3. Decisão\n",
        "Com um $p-valor = 0.00012 < 𝛂 = 0.05$, concluímos que ao nível de significância de 5%, os dados nos dão evidências de que a variável \"reading score\" segue uma distribuição Normal baseada no teste de Shapiro-Wilk. "
      ],
      "metadata": {
        "id": "NqfVAbDkTUOe"
      }
    },
    {
      "cell_type": "markdown",
      "source": [
        "## 4.3. Variavel: \"writing score\""
      ],
      "metadata": {
        "id": "VnWdUpKNT3Rt"
      }
    },
    {
      "cell_type": "markdown",
      "source": [
        "### 4.3.1. Visualização dos Dados"
      ],
      "metadata": {
        "id": "WJgJvPFTUFWd"
      }
    },
    {
      "cell_type": "code",
      "source": [
        "plt.xlabel('writing score: valores')\n",
        "plt.ylabel('Freqência')\n",
        "plt.title('Distribuição de Frequências: writing score')\n",
        "sns.histplot(data=data, x=\"writing score\", kde=True)"
      ],
      "metadata": {
        "colab": {
          "base_uri": "https://localhost:8080/",
          "height": 313
        },
        "id": "3_dVngWoMyys",
        "outputId": "34f5c1bb-1197-440a-f450-009e155b3ca8"
      },
      "execution_count": null,
      "outputs": [
        {
          "output_type": "execute_result",
          "data": {
            "text/plain": [
              "<matplotlib.axes._subplots.AxesSubplot at 0x7f6da1de95d0>"
            ]
          },
          "metadata": {},
          "execution_count": 14
        },
        {
          "output_type": "display_data",
          "data": {
            "text/plain": [
              "<Figure size 432x288 with 1 Axes>"
            ],
            "image/png": "[encoded data removed]"
          },
          "metadata": {
            "needs_background": "light"
          }
        }
      ]
    },
    {
      "cell_type": "markdown",
      "source": [
        "Aravés da visualização, podemos supor possíveis infrências:\n",
        "- trata-se de uma variável com distribuição Normal com assimetria à esquerda;\n",
        "- média próximo de 65."
      ],
      "metadata": {
        "id": "AtC-akPxUcfV"
      }
    },
    {
      "cell_type": "markdown",
      "source": [
        "### 4.3.2. Aplicação do Teste na Amostra"
      ],
      "metadata": {
        "id": "_gbeHKEqU7jc"
      }
    },
    {
      "cell_type": "code",
      "source": [
        "x = data['writing score']\n",
        "shapiro_test = stats.shapiro(x)\n",
        "print('*** RESULTADO - VARIÁVEL: WRITING SCORE ***')\n",
        "print(shapiro_test)"
      ],
      "metadata": {
        "colab": {
          "base_uri": "https://localhost:8080/"
        },
        "id": "dzmBrP-BU1a-",
        "outputId": "cf2187dd-b125-4a7b-d30c-0809cf20afb4"
      },
      "execution_count": null,
      "outputs": [
        {
          "output_type": "stream",
          "name": "stdout",
          "text": [
            "*** RESULTADO - VARIÁVEL: WRITING SCORE ***\n",
            "ShapiroResult(statistic=0.9930291175842285, pvalue=0.0001226694294018671)\n"
          ]
        }
      ]
    },
    {
      "cell_type": "markdown",
      "source": [
        "###4.3.3. Decisão\n",
        "Com um $p-valor = 0.00012 < 𝛂 = 0.05$, concluímos que ao nível de significância de 5%, os dados nos dão evidências de que a variável \"wiriting score\" segue uma distribuição Normal baseada no teste de Shapiro-Wilk."
      ],
      "metadata": {
        "id": "SrH9b33BVP1d"
      }
    },
    {
      "cell_type": "markdown",
      "source": [
        "#5.Intervalos de Confiança para μ\n",
        "Antes de abordarmos testes de hipóteses, um tópico importante para investigação, seria o intervalo de confiança para a média pupulacional $μ$. Perceba que possuimos apenas os valores dos scores de cada estudantes colhidos para a pesquisa, isto é, apenas valores amostrais. Utilizando do Intervalo de confiança, estimamos $μ$ e atribuímos pra ele um intervalo numérico confiável.\n",
        "\n",
        "Contexto e metodologia: \n",
        "- Possuímos em mãos uma amostra com 1000 observações e já testamos se ela pode ou não ser descrita com uma distribuição Normal (ver tópico 4), assim utilizaremos o teste Z para calcular o Intervalo de Confiança;\n",
        "- Temos um desvio padrão desconhecido ($𝜎$ desconhecido), utilizaremos o estimador $s$ para o cálculo;\n",
        "- Para todos os Intervalos de Confiança, usaremos um nível de confiança de 95% ($β = 1 - α = 0.95$)"
      ],
      "metadata": {
        "id": "OrifAAQAArZc"
      }
    },
    {
      "cell_type": "markdown",
      "source": [
        "## 5.1. Variável: \"math score\""
      ],
      "metadata": {
        "id": "7Zm5qOq-CmCt"
      }
    },
    {
      "cell_type": "markdown",
      "source": [
        "Estatísticas da amostra:"
      ],
      "metadata": {
        "id": "NT0e3aonGI2e"
      }
    },
    {
      "cell_type": "code",
      "source": [
        "x_barra = np.mean(data['math score'])\n",
        "s = np.std(data['math score'])\n",
        "n = data.shape[0]\n",
        "zalpha = abs(scipy.stats.norm.ppf((1 - 0.95)/2.))\n",
        "print('*Informações da Amostra*')\n",
        "print(f'x_barra = {round(x_barra,4)}; s = {round(s,4)}; n = {n}; zalpha = {round(zalpha,4)}')"
      ],
      "metadata": {
        "colab": {
          "base_uri": "https://localhost:8080/"
        },
        "id": "SQ0-SyW1Clhe",
        "outputId": "e368a8dc-30e0-4932-b438-ee9d3ce7ece6"
      },
      "execution_count": null,
      "outputs": [
        {
          "output_type": "stream",
          "name": "stdout",
          "text": [
            "*Informações da Amostra*\n",
            "x_barra = 66.396; s = 15.3952; n = 1000; zalpha = 1.96\n"
          ]
        }
      ]
    },
    {
      "cell_type": "markdown",
      "source": [
        "Cálculo do limite inferior do I.C.:"
      ],
      "metadata": {
        "id": "XBKIPtw0GMcH"
      }
    },
    {
      "cell_type": "code",
      "source": [
        "zalpha = abs(scipy.stats.norm.ppf((1 - 0.95)/2.))"
      ],
      "metadata": {
        "id": "28NgbzKmGolN"
      },
      "execution_count": null,
      "outputs": []
    },
    {
      "cell_type": "code",
      "source": [
        "LI = x_barra - zalpha*(s/(n**(1/2)))\n",
        "print('Limite inferior:', round(LI,4))"
      ],
      "metadata": {
        "colab": {
          "base_uri": "https://localhost:8080/"
        },
        "id": "3WErNtbCFefX",
        "outputId": "fd67772f-7354-4afa-cc7d-abde1e3a5774"
      },
      "execution_count": null,
      "outputs": [
        {
          "output_type": "stream",
          "name": "stdout",
          "text": [
            "Limite inferior: 65.4418\n"
          ]
        }
      ]
    },
    {
      "cell_type": "markdown",
      "source": [
        "Cálculo do Limite superior do I.C.:"
      ],
      "metadata": {
        "id": "Uy82B8H4FcxF"
      }
    },
    {
      "cell_type": "code",
      "source": [
        "LS = x_barra + zalpha*(s/(n**(1/2)))\n",
        "print('Limite superior:', round(LS,4))"
      ],
      "metadata": {
        "colab": {
          "base_uri": "https://localhost:8080/"
        },
        "id": "72coKHNNHUKe",
        "outputId": "2013c643-f63c-4ae5-d01d-cb825bcc6ae7"
      },
      "execution_count": null,
      "outputs": [
        {
          "output_type": "stream",
          "name": "stdout",
          "text": [
            "Limite superior: 67.3502\n"
          ]
        }
      ]
    },
    {
      "cell_type": "markdown",
      "source": [
        "Assim chegamos a conclusão de que um Intervalo de Confiança para a média populacional da variável \"math score\" com $β = 0.95$ será de:\n",
        "\n"
      ],
      "metadata": {
        "id": "lHya4xe3Hj9N"
      }
    },
    {
      "cell_type": "markdown",
      "source": [
        "$$\n",
        "IC(μ,\\,\\, 0.95,\\,\\, ''math\\,\\, score'') = (65.4418; 67.3502)\n",
        "$$"
      ],
      "metadata": {
        "id": "8hfY5BAaCQ6k"
      }
    },
    {
      "cell_type": "markdown",
      "source": [
        "## 5.2. Variável: \"reading score\"\n",
        "Estatísticas da amostra:"
      ],
      "metadata": {
        "id": "O06drjlkAM8j"
      }
    },
    {
      "cell_type": "code",
      "source": [
        "x_barra = np.mean(data['reading score'])\n",
        "s = np.std(data['reading score'])\n",
        "n = data.shape[0]\n",
        "zalpha = abs(scipy.stats.norm.ppf((1 - 0.95)/2.))\n",
        "print('*Informações da Amostra*')\n",
        "print(f'x_barra = {round(x_barra,4)}; s = {round(s,4)}; n = {n}; zalpha = {round(zalpha,4)}')"
      ],
      "metadata": {
        "colab": {
          "base_uri": "https://localhost:8080/"
        },
        "id": "xlKO6fAnAjrA",
        "outputId": "5cad1da8-2107-4af3-b323-819e6335cc4d"
      },
      "execution_count": null,
      "outputs": [
        {
          "output_type": "stream",
          "name": "stdout",
          "text": [
            "*Informações da Amostra*\n",
            "x_barra = 69.002; s = 14.7299; n = 1000; zalpha = 1.96\n"
          ]
        }
      ]
    },
    {
      "cell_type": "markdown",
      "source": [
        "Calculando o Limite Inferior:"
      ],
      "metadata": {
        "id": "SHonLTpbArrN"
      }
    },
    {
      "cell_type": "code",
      "source": [
        "LI = x_barra - (zalpha * (s/(n**(1/2))))\n",
        "print(f'Limite inferior: {round(LI,4)}')"
      ],
      "metadata": {
        "colab": {
          "base_uri": "https://localhost:8080/"
        },
        "id": "unKDJXuYAq87",
        "outputId": "4da5de63-a1c9-4198-d676-8c0c1ab043d6"
      },
      "execution_count": null,
      "outputs": [
        {
          "output_type": "stream",
          "name": "stdout",
          "text": [
            "Limite inferior: 68.089\n"
          ]
        }
      ]
    },
    {
      "cell_type": "markdown",
      "source": [
        "Calculando o Limite Superior:"
      ],
      "metadata": {
        "id": "O8tfus2yBJUI"
      }
    },
    {
      "cell_type": "code",
      "source": [
        "LS = x_barra + (zalpha +(s/(n**(1/2))))\n",
        "print(f'Limite superior: {round(LS, 4)}')"
      ],
      "metadata": {
        "colab": {
          "base_uri": "https://localhost:8080/"
        },
        "id": "e1JbknBoBM5z",
        "outputId": "03530bbf-a97a-4486-833d-6b46adbd5a3b"
      },
      "execution_count": null,
      "outputs": [
        {
          "output_type": "stream",
          "name": "stdout",
          "text": [
            "Limite superior: 71.4278\n"
          ]
        }
      ]
    },
    {
      "cell_type": "markdown",
      "source": [
        "Chegamos a conclusão de que um Intervalo de Confiança para a média populacional da variável \"reading score\" com $β = 0.95$ será de:\n"
      ],
      "metadata": {
        "id": "VScoJawBBtKE"
      }
    },
    {
      "cell_type": "markdown",
      "source": [
        "$$\n",
        "IC(μ,\\,\\, 0.95,\\,\\, ''reading\\,\\, score'') = (68.089; 71.4278)\n",
        "$$"
      ],
      "metadata": {
        "id": "4foW57iDCOwF"
      }
    },
    {
      "cell_type": "markdown",
      "source": [
        "##5.3. Variável: \"writing score\"\n",
        "Cálculo das estatísticas:"
      ],
      "metadata": {
        "id": "kxepOad8CeUt"
      }
    },
    {
      "cell_type": "code",
      "source": [
        "x_barra = np.mean(data['writing score'])\n",
        "s = np.std(data['writing score'])\n",
        "n = data.shape[0]\n",
        "zalpha = abs(scipy.stats.norm.ppf((1 - 0.95)/2.))\n",
        "print('*Informações da Amostra*')\n",
        "print(f'x_barra = {round(x_barra,4)}; s = {round(s,4)}; n = {n}; zalpha = {round(zalpha,4)}')"
      ],
      "metadata": {
        "colab": {
          "base_uri": "https://localhost:8080/"
        },
        "id": "17gva3dfCnJu",
        "outputId": "4f26f92b-c556-4d22-fab1-13f8bdc4e777"
      },
      "execution_count": null,
      "outputs": [
        {
          "output_type": "stream",
          "name": "stdout",
          "text": [
            "*Informações da Amostra*\n",
            "x_barra = 67.738; s = 15.5932; n = 1000; zalpha = 1.96\n"
          ]
        }
      ]
    },
    {
      "cell_type": "markdown",
      "source": [
        "Cálculo do limite inferior e do limite superior:"
      ],
      "metadata": {
        "id": "kXnusgouC2_Y"
      }
    },
    {
      "cell_type": "code",
      "source": [
        "LI = x_barra - (zalpha*(s/(n**(1/2))))\n",
        "LS = x_barra + (zalpha*(s/(n**(1/2))))\n",
        "\n",
        "print(f'Limite inferior: {round(LI,4)}')\n",
        "print(f'Limite superior: {round(LS,4)}')"
      ],
      "metadata": {
        "colab": {
          "base_uri": "https://localhost:8080/"
        },
        "id": "BJhc4N-pC9Zq",
        "outputId": "df1b4c32-344b-472a-eb83-b036abac8f8c"
      },
      "execution_count": null,
      "outputs": [
        {
          "output_type": "stream",
          "name": "stdout",
          "text": [
            "Limite inferior: 66.7715\n",
            "Limite superior: 68.7045\n"
          ]
        }
      ]
    },
    {
      "cell_type": "markdown",
      "source": [
        "Assim, chegamos que o Intervalo de Confiança para a média populacional da variável \"writing score\" considerando $β = 0.95$ será de:\n"
      ],
      "metadata": {
        "id": "x05KdDdtDTIH"
      }
    },
    {
      "cell_type": "markdown",
      "source": [
        "$$\n",
        "IC(μ,\\,\\, 0.95,\\,\\, ''writing\\,\\, score'') = (66.7715; 68.7045)\n",
        "$$"
      ],
      "metadata": {
        "id": "N7brDmtBCLaV"
      }
    },
    {
      "cell_type": "markdown",
      "source": [
        "# 6.Análise Gráfica das Correlações"
      ],
      "metadata": {
        "id": "wtw7V_4VVh6E"
      }
    },
    {
      "cell_type": "markdown",
      "source": [
        "Além de verificarmos a normalidade das variáveis quantitativas, podemos também analisar suas correleções. Para isso, geraremos uma matriz de correlações:"
      ],
      "metadata": {
        "id": "b_E7qpYcXUjO"
      }
    },
    {
      "cell_type": "code",
      "source": [
        "data.corr()"
      ],
      "metadata": {
        "colab": {
          "base_uri": "https://localhost:8080/",
          "height": 143
        },
        "id": "nMedHabTVKjh",
        "outputId": "8a375634-5ca5-4631-aa08-a8c35f0ef6f4"
      },
      "execution_count": null,
      "outputs": [
        {
          "output_type": "execute_result",
          "data": {
            "text/plain": [
              "               math score  reading score  writing score\n",
              "math score       1.000000       0.819398       0.805944\n",
              "reading score    0.819398       1.000000       0.954274\n",
              "writing score    0.805944       0.954274       1.000000"
            ],
            "text/html": [
              "\n",
              "  <div id=\"df-ba2e3ac1-afaa-4172-8107-0c51706fce7a\">\n",
              "    <div class=\"colab-df-container\">\n",
              "      <div>\n",
              "<style scoped>\n",
              "    .dataframe tbody tr th:only-of-type {\n",
              "        vertical-align: middle;\n",
              "    }\n",
              "\n",
              "    .dataframe tbody tr th {\n",
              "        vertical-align: top;\n",
              "    }\n",
              "\n",
              "    .dataframe thead th {\n",
              "        text-align: right;\n",
              "    }\n",
              "</style>\n",
              "<table border=\"1\" class=\"dataframe\">\n",
              "  <thead>\n",
              "    <tr style=\"text-align: right;\">\n",
              "      <th></th>\n",
              "      <th>math score</th>\n",
              "      <th>reading score</th>\n",
              "      <th>writing score</th>\n",
              "    </tr>\n",
              "  </thead>\n",
              "  <tbody>\n",
              "    <tr>\n",
              "      <th>math score</th>\n",
              "      <td>1.000000</td>\n",
              "      <td>0.819398</td>\n",
              "      <td>0.805944</td>\n",
              "    </tr>\n",
              "    <tr>\n",
              "      <th>reading score</th>\n",
              "      <td>0.819398</td>\n",
              "      <td>1.000000</td>\n",
              "      <td>0.954274</td>\n",
              "    </tr>\n",
              "    <tr>\n",
              "      <th>writing score</th>\n",
              "      <td>0.805944</td>\n",
              "      <td>0.954274</td>\n",
              "      <td>1.000000</td>\n",
              "    </tr>\n",
              "  </tbody>\n",
              "</table>\n",
              "</div>\n",
              "      <button class=\"colab-df-convert\" onclick=\"convertToInteractive('df-ba2e3ac1-afaa-4172-8107-0c51706fce7a')\"\n",
              "              title=\"Convert this dataframe to an interactive table.\"\n",
              "              style=\"display:none;\">\n",
              "        \n",
              "  <svg xmlns=\"http://www.w3.org/2000/svg\" height=\"24px\"viewBox=\"0 0 24 24\"\n",
              "       width=\"24px\">\n",
              "    <path d=\"M0 0h24v24H0V0z\" fill=\"none\"/>\n",
              "    <path d=\"M18.56 5.44l.94 2.06.94-2.06 2.06-.94-2.06-.94-.94-2.06-.94 2.06-2.06.94zm-11 1L8.5 8.5l.94-2.06 2.06-.94-2.06-.94L8.5 2.5l-.94 2.06-2.06.94zm10 10l.94 2.06.94-2.06 2.06-.94-2.06-.94-.94-2.06-.94 2.06-2.06.94z\"/><path d=\"M17.41 7.96l-1.37-1.37c-.4-.4-.92-.59-1.43-.59-.52 0-1.04.2-1.43.59L10.3 9.45l-7.72 7.72c-.78.78-.78 2.05 0 2.83L4 21.41c.39.39.9.59 1.41.59.51 0 1.02-.2 1.41-.59l7.78-7.78 2.81-2.81c.8-.78.8-2.07 0-2.86zM5.41 20L4 18.59l7.72-7.72 1.47 1.35L5.41 20z\"/>\n",
              "  </svg>\n",
              "      </button>\n",
              "      \n",
              "  <style>\n",
              "    .colab-df-container {\n",
              "      display:flex;\n",
              "      flex-wrap:wrap;\n",
              "      gap: 12px;\n",
              "    }\n",
              "\n",
              "    .colab-df-convert {\n",
              "      background-color: #E8F0FE;\n",
              "      border: none;\n",
              "      border-radius: 50%;\n",
              "      cursor: pointer;\n",
              "      display: none;\n",
              "      fill: #1967D2;\n",
              "      height: 32px;\n",
              "      padding: 0 0 0 0;\n",
              "      width: 32px;\n",
              "    }\n",
              "\n",
              "    .colab-df-convert:hover {\n",
              "      background-color: #E2EBFA;\n",
              "      box-shadow: 0px 1px 2px rgba(60, 64, 67, 0.3), 0px 1px 3px 1px rgba(60, 64, 67, 0.15);\n",
              "      fill: #174EA6;\n",
              "    }\n",
              "\n",
              "    [theme=dark] .colab-df-convert {\n",
              "      background-color: #3B4455;\n",
              "      fill: #D2E3FC;\n",
              "    }\n",
              "\n",
              "    [theme=dark] .colab-df-convert:hover {\n",
              "      background-color: #434B5C;\n",
              "      box-shadow: 0px 1px 3px 1px rgba(0, 0, 0, 0.15);\n",
              "      filter: drop-shadow(0px 1px 2px rgba(0, 0, 0, 0.3));\n",
              "      fill: #FFFFFF;\n",
              "    }\n",
              "  </style>\n",
              "\n",
              "      <script>\n",
              "        const buttonEl =\n",
              "          document.querySelector('#df-ba2e3ac1-afaa-4172-8107-0c51706fce7a button.colab-df-convert');\n",
              "        buttonEl.style.display =\n",
              "          google.colab.kernel.accessAllowed ? 'block' : 'none';\n",
              "\n",
              "        async function convertToInteractive(key) {\n",
              "          const element = document.querySelector('#df-ba2e3ac1-afaa-4172-8107-0c51706fce7a');\n",
              "          const dataTable =\n",
              "            await google.colab.kernel.invokeFunction('convertToInteractive',\n",
              "                                                     [key], {});\n",
              "          if (!dataTable) return;\n",
              "\n",
              "          const docLinkHtml = 'Like what you see? Visit the ' +\n",
              "            '<a target=\"_blank\" href=https://colab.research.google.com/notebooks/data_table.ipynb>data table notebook</a>'\n",
              "            + ' to learn more about interactive tables.';\n",
              "          element.innerHTML = '';\n",
              "          dataTable['output_type'] = 'display_data';\n",
              "          await google.colab.output.renderOutput(dataTable, element);\n",
              "          const docLink = document.createElement('div');\n",
              "          docLink.innerHTML = docLinkHtml;\n",
              "          element.appendChild(docLink);\n",
              "        }\n",
              "      </script>\n",
              "    </div>\n",
              "  </div>\n",
              "  "
            ]
          },
          "metadata": {},
          "execution_count": 25
        }
      ]
    },
    {
      "cell_type": "markdown",
      "source": [
        "Perceba, que a matriz , de maneira explícita, diz muito pouco sobre as correlações. Colocando-a em um mapa de calor conseguimos analisar mais afundo:"
      ],
      "metadata": {
        "id": "2F4VilWMZyMF"
      }
    },
    {
      "cell_type": "code",
      "source": [
        "heatmap = sns.heatmap(data.corr(), vmin=-1, vmax=1, annot = True)"
      ],
      "metadata": {
        "colab": {
          "base_uri": "https://localhost:8080/",
          "height": 269
        },
        "id": "IZGjxMYCZqbB",
        "outputId": "ce88e0a8-7b98-488d-cde2-e5b44ca1acf4"
      },
      "execution_count": null,
      "outputs": [
        {
          "output_type": "display_data",
          "data": {
            "text/plain": [
              "<Figure size 432x288 with 2 Axes>"
            ],
            "image/png": "[encoded data removed]"
          },
          "metadata": {
            "needs_background": "light"
          }
        }
      ]
    },
    {
      "cell_type": "markdown",
      "source": [
        "Agora, com uma visualização gráfica, podemos inferir ideias claras acerca das correlações:\n",
        "- a correlção da pontuação de escrita e leitura é alta, isto é, estudantes que lêem bem também escrevem bem e vice-versa;\n",
        "- embora a correlação da pontuação no teste de matemática com o teste de leitura e escrita seja menor que entre os dois últimos, há um alta taxa de correlção entre as três competências."
      ],
      "metadata": {
        "id": "mo0UD13va1xc"
      }
    },
    {
      "cell_type": "markdown",
      "source": [
        "#7.Testes de Hipóteses"
      ],
      "metadata": {
        "id": "B6vtcpVYbx_V"
      }
    },
    {
      "cell_type": "markdown",
      "source": [
        "Como especificado no início do estudo, nosso Teste de Hipótese será voltado à um tópico específico, sendo ele:\n",
        "*Estudantes de gênero masculino possuem scores em matemática maiores que estudantes do gênero feminino?*\n"
      ],
      "metadata": {
        "id": "it_yxBMYeSqN"
      }
    },
    {
      "cell_type": "markdown",
      "source": [
        "## 7.1. Tópico 1\n",
        "**Estudantes de gênero masculino possuem scores maiores que estudantes de gênero feminino em matemática.**"
      ],
      "metadata": {
        "id": "r5RPsJzb_uk7"
      }
    },
    {
      "cell_type": "markdown",
      "source": [
        "### 7.1.1. Formulação das Hipóteses\n",
        "Intepretando o tópico e relambrando os tipos de testes que possuímos, chegamos a conclusão inical de que trata-se de um teste de hipótese unilateral à direita. Vamos tartar o tópico como um problema de desigualdade, isto é, vamos testar a igualdade das médias dos dois públicos (masculino e feminino) da variável \"math score\" com $α  =0.05$."
      ],
      "metadata": {
        "id": "Gxxbclv6FPZ8"
      }
    },
    {
      "cell_type": "markdown",
      "source": [
        "Seleção das amostras:"
      ],
      "metadata": {
        "id": "JVYuwm33P5E0"
      }
    },
    {
      "cell_type": "code",
      "source": [
        "data_m = data[data['gender'] == 'male'] #Amostra apenas com público masculino\n",
        "data_f = data[data['gender'] == 'female'] #Amostra apenas com público feminino"
      ],
      "metadata": {
        "id": "KPN8eNKLEcaX"
      },
      "execution_count": null,
      "outputs": []
    },
    {
      "cell_type": "markdown",
      "source": [
        "Considerando as seguintes notações:\n",
        "- $μ_f:média \\,\\, populacional \\,\\, da \\,\\, variável \\,\\, ''math\\,\\, score''\\,\\, do \\,\\, sexo\\,\\, masculino$\n",
        "- $μ_m: média \\,\\, populacional \\,\\, da \\,\\, variável \\,\\, ''math\\,\\, score''\\,\\, do \\,\\, sexo\\,\\, feminino$"
      ],
      "metadata": {
        "id": "vaH75KMNG3E7"
      }
    },
    {
      "cell_type": "code",
      "source": [
        "x_barra_f = np.mean(data_f['math score'])\n",
        "x_barra_m = np.mean(data_m['math score'])\n",
        "s_f = np.std(data_f['math score'])\n",
        "s_m = np.std(data_m['math score'])\n",
        "print('Médias amostrais:',x_barra_m, x_barra_f)\n",
        "print('Desvios amostrais:', s_m, s_f)"
      ],
      "metadata": {
        "colab": {
          "base_uri": "https://localhost:8080/"
        },
        "id": "obMQV92lQS0c",
        "outputId": "1cb299af-6e4c-43ce-a02d-9255be082036"
      },
      "execution_count": null,
      "outputs": [
        {
          "output_type": "stream",
          "name": "stdout",
          "text": [
            "Médias amostrais: 69.38491295938104 63.196687370600415\n",
            "Desvios amostrais: 14.705122353963437 15.474035870707283\n"
          ]
        }
      ]
    },
    {
      "cell_type": "markdown",
      "source": [
        "Segue que:"
      ],
      "metadata": {
        "id": "zQPq-rtzMygx"
      }
    },
    {
      "cell_type": "markdown",
      "source": [
        "$$\n",
        "\\hat{μ}_f \t\\approx 63.1967 = \\bar{x}_f\n",
        "$$\n",
        "$$\n",
        "\\\\\\hat{μ}_m \t\\approx 69.3849 = \\bar{x}_m\n",
        "$$"
      ],
      "metadata": {
        "id": "Us8YINDBMztq"
      }
    },
    {
      "cell_type": "markdown",
      "source": [
        "Construindo a Hipótese nula, temos que a média dos scores do públimo masculino em matemática é menor ou igual a média dos scores do público feminino em matemática, manipulando essa relação, chegamos em: "
      ],
      "metadata": {
        "id": "2eoIXjWcJPiP"
      }
    },
    {
      "cell_type": "markdown",
      "source": [
        "$$\n",
        "H_0: \\mu_m \\le \\mu_f \\,\\, \\Leftrightarrow\\,\\,  \\mu_m - \\mu_f \\le 0\n",
        "$$"
      ],
      "metadata": {
        "id": "W8pKN3aTMRWu"
      }
    },
    {
      "cell_type": "markdown",
      "source": [
        "Para a hipótese alternativa, temos a negação de $H_0$."
      ],
      "metadata": {
        "id": "N1XmRY2NNS9W"
      }
    },
    {
      "cell_type": "markdown",
      "source": [
        "$$\n",
        "H_1: μ_m > μ_f \\,\\,\\Leftrightarrow\\,\\, μ_m - μ_f > 0\n",
        "$$"
      ],
      "metadata": {
        "id": "eubJa3WkNqY6"
      }
    },
    {
      "cell_type": "markdown",
      "source": [
        "Sumarizando:"
      ],
      "metadata": {
        "id": "inPDJSG_PFpF"
      }
    },
    {
      "cell_type": "markdown",
      "source": [
        "$$\n",
        "H_0: \\mu_m - \\mu_f \\le 0\\\\\n",
        "$$\n",
        "$$\n",
        "H_1: μ_m - μ_f > 0\n",
        "$$"
      ],
      "metadata": {
        "id": "DkJFnA3hPVp4"
      }
    },
    {
      "cell_type": "markdown",
      "source": [
        "### 7.1.2. Valor Crítico\n",
        "Precisamos agora consultar nosso valor crítico com base na distribuição Normal e tendo em vista que trata-se de um teste unilateral à direita com um nível de siginificância de 5%:\n"
      ],
      "metadata": {
        "id": "Cg5iEyHgPtxq"
      }
    },
    {
      "cell_type": "markdown",
      "source": [
        "$$\n",
        "     \\text{Nível de significância} = α = 0.05 \n",
        "$$"
      ],
      "metadata": {
        "id": "i8HP3T9hCA38"
      }
    },
    {
      "cell_type": "markdown",
      "source": [
        "Logo, basta consultarmos o valor tabelado:"
      ],
      "metadata": {
        "id": "ur1iEKOUCCzf"
      }
    },
    {
      "cell_type": "code",
      "source": [
        "z_alpha = norm.ppf(0.95)\n",
        "z_alpha"
      ],
      "metadata": {
        "id": "-ClygxfXPq0a",
        "colab": {
          "base_uri": "https://localhost:8080/"
        },
        "outputId": "b5345f09-cd81-4d9e-edf7-69b590ca0714"
      },
      "execution_count": null,
      "outputs": [
        {
          "output_type": "execute_result",
          "data": {
            "text/plain": [
              "1.6448536269514722"
            ]
          },
          "metadata": {},
          "execution_count": 44
        }
      ]
    },
    {
      "cell_type": "markdown",
      "source": [
        "Ou seja:\n"
      ],
      "metadata": {
        "id": "PE91uPgHZCQg"
      }
    },
    {
      "cell_type": "markdown",
      "source": [
        "$$\n",
        "z_α \t\\approx 1.6449\n",
        "$$"
      ],
      "metadata": {
        "id": "VBqaovNnB-28"
      }
    },
    {
      "cell_type": "markdown",
      "source": [
        "###7.1.3. Estatística de teste\n",
        "\n",
        "Antes de tomarmos uma decisão, resta-nos calcularmos a estatística de teste pela expressão:\n",
        "\n"
      ],
      "metadata": {
        "id": "wRWt6zKTHcRu"
      }
    },
    {
      "cell_type": "markdown",
      "source": [
        "$$\n",
        "\\text{z-teste} = \\frac{(\\bar{x}_m - \\bar{x}_m) - (μ_m - μ_m)}{σ_\\bar{x}}\n",
        "$$"
      ],
      "metadata": {
        "id": "ZU_tOIOmBuI8"
      }
    },
    {
      "cell_type": "markdown",
      "source": [
        "Onde $σ_\\bar{x}$ é dado por:"
      ],
      "metadata": {
        "id": "0_UK_LD1BxAk"
      }
    },
    {
      "cell_type": "markdown",
      "source": [
        "$$\n",
        "σ_\\bar{x} = \\sqrt{\\frac{σ^2_m}{n_m} + \\frac{σ^2_f}{n_f}} \n",
        "$$"
      ],
      "metadata": {
        "id": "xzv3LiTaBz9z"
      }
    },
    {
      "cell_type": "markdown",
      "source": [
        "Perceba que não possuímos $σ$, assim usaremos o estimador $s$."
      ],
      "metadata": {
        "id": "cPpKHIU-B2c1"
      }
    },
    {
      "cell_type": "code",
      "source": [
        "n_m = data_m.shape[0]\n",
        "n_f = data_f.shape[0]\n",
        "sigma2_m = (s_m)**2\n",
        "sigma2_f = (s_f)**2\n",
        "dif_mu1_mu2 = 0\n",
        "\n",
        "sigma_xbarra = ((sigma2_m/n_m) + (sigma2_f/n_f))**(1/2)\n",
        "\n",
        "z_teste = ((x_barra_m - x_barra_f) - dif_mu1_mu2)/sigma_xbarra\n",
        "print('Valor do z-teste: ', z_teste)"
      ],
      "metadata": {
        "colab": {
          "base_uri": "https://localhost:8080/"
        },
        "id": "F5BzFdzNG1EW",
        "outputId": "26c17454-f332-48ab-afa8-24cd6e3a730e"
      },
      "execution_count": null,
      "outputs": [
        {
          "output_type": "stream",
          "name": "stdout",
          "text": [
            "Valor do z-teste:  6.472786616955789\n"
          ]
        }
      ]
    },
    {
      "cell_type": "markdown",
      "source": [
        "Ou seja,\n"
      ],
      "metadata": {
        "id": "PVYYWsbDkMbA"
      }
    },
    {
      "cell_type": "markdown",
      "source": [
        "$$\n",
        "\\text{z-teste}≈6.4728 > z_α \\,\\, \\Rightarrow \\,\\, \\text{rejeita}\\,\\,H_0\n",
        "$$"
      ],
      "metadata": {
        "id": "3e2_6ckLBqN8"
      }
    },
    {
      "cell_type": "markdown",
      "source": [
        "### 7.1.4. p-valor e decisão\n",
        "poderíamos utilizar o p-valor para tomar nossa decisão, observe:\n"
      ],
      "metadata": {
        "id": "X2rknPY4mzzb"
      }
    },
    {
      "cell_type": "markdown",
      "source": [
        "\n",
        "$$\n",
        "\\text{p-valor} = P(Z > \\text{z-teste}) = P(Z>0.4728) ≈ 0\\\\ \n",
        "$$\n",
        "$$\n",
        "\\therefore\\,\\, p-valor < α \\,\\,\\Rightarrow\\,\\, \\text{rejeita }H_0 \n",
        "$$"
      ],
      "metadata": {
        "id": "jdrZd2eRBk-9"
      }
    },
    {
      "cell_type": "markdown",
      "source": [
        "Decisão: Ao nível de siginificância de 5% os dados nos dão evidências de que há uma desigualdade clara entre os escores de matemática entre o púbico masculino e o público feminino, na qual os homens se saíram melhor na competência. "
      ],
      "metadata": {
        "id": "zst7awWzBhGU"
      }
    },
    {
      "cell_type": "markdown",
      "source": [
        "De fato, vejamos graficamente:"
      ],
      "metadata": {
        "id": "LfTGAM3QFVrb"
      }
    },
    {
      "cell_type": "code",
      "source": [
        "fig = plt.figure(figsize=(8, 6))\n",
        "plt.xlabel('math score: valores')\n",
        "plt.ylabel('Frequência')\n",
        "plt.title('Distribuição de Frequências por Gênero: \"math score\"')\n",
        "sns.histplot(data=data_f, x=\"math score\", kde=True, color='pink', element = 'step')\n",
        "sns.histplot(data=data_m, x=\"math score\", kde=True, color='lightblue', element = 'step')\n",
        "plt.legend(labels=[\"Feminino\",\"Masculino\"])"
      ],
      "metadata": {
        "colab": {
          "base_uri": "https://localhost:8080/",
          "height": 422
        },
        "id": "WKZ-m5gHATxD",
        "outputId": "a3b44fda-34db-4e50-dc4f-8f501082c055"
      },
      "execution_count": null,
      "outputs": [
        {
          "output_type": "execute_result",
          "data": {
            "text/plain": [
              "<matplotlib.legend.Legend at 0x7f6d9b2d6510>"
            ]
          },
          "metadata": {},
          "execution_count": 75
        },
        {
          "output_type": "display_data",
          "data": {
            "text/plain": [
              "<Figure size 576x432 with 1 Axes>"
            ],
            "image/png": "[encoded data removed]"
          },
          "metadata": {
            "needs_background": "light"
          }
        }
      ]
    },
    {
      "cell_type": "markdown",
      "source": [
        "#8.Conclusão\n",
        "Embora o estudo tenha sido baseado em uma base de dados fictícia, fica evidente o poder de ferramenta estatísticas para a solução de problemas do mundo real. Utilizando dois testes de hipótese,  não-paramétrico e paramétrico, respectivamente, chegamos em conclusões específicas acerca da distribuição dos dados e de suas médias populacionais. "
      ],
      "metadata": {
        "id": "cxpcPKjpF2MK"
      }
    }
  ]
}